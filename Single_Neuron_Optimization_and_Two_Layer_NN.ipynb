{
  "nbformat": 4,
  "nbformat_minor": 0,
  "metadata": {
    "colab": {
      "provenance": [],
      "gpuType": "T4"
    },
    "kernelspec": {
      "name": "python3",
      "display_name": "Python 3"
    },
    "language_info": {
      "name": "python"
    },
    "accelerator": "GPU"
  },
  "cells": [
    {
      "cell_type": "markdown",
      "source": [
        "# Assignment 1 (50 points)"
      ],
      "metadata": {
        "id": "BevRMflsqwin"
      }
    },
    {
      "cell_type": "code",
      "source": [
        "%matplotlib inline\n",
        "import numpy as np\n",
        "import matplotlib.pyplot as plt\n",
        "import torch\n",
        "from torch import nn as nn\n",
        "from torch.nn import functional as F"
      ],
      "metadata": {
        "id": "VFcJgUtfyr-C"
      },
      "execution_count": null,
      "outputs": []
    },
    {
      "cell_type": "markdown",
      "source": [
        "## Problem 1 (20 points)\n",
        "\n",
        "Optimize the following loss:\n",
        "$L = (leaky\\_relu(w1 * x1 + w2 * x2) - 5) ^ 2$\n",
        "\n",
        "This represents a single neuron with 2 inputs (x1 and x2) with tunable parameters (w1 and w2). The neuron has leaky relu activation function defined below. The output should be equal to 5. We are measuring the loss using the L2 loss.\n",
        "\n",
        "\n",
        "$\\text{LeakyReLU}(x) = \\begin{cases}\n",
        "x, & \\text{if } x > 0 \\\\\n",
        "0.01 * x, & \\text{otherwise}\n",
        "\\end{cases}$\n",
        "\n",
        "\n",
        "Hints:\n",
        "1. Since leaky relu is a piecewise function (is calculated different depending on the value of x), the derivative calculation will also be calculated differently depending on the value of x\n",
        "2. Consider that:\n",
        "\n",
        "$sum = w1 * x1 + w2 * x2$\n",
        "\n",
        "$output = leaky\\_relu(sum)$\n",
        "\n",
        "$L = (output - 5) ^ 2$\n",
        "\n",
        "How can we use the chain rule to $\\frac{\\delta L}{\\delta w1}$ and $\\frac{\\delta L}{\\delta w2}$?\n"
      ],
      "metadata": {
        "id": "poZiZrQyyNOT"
      }
    },
    {
      "cell_type": "code",
      "source": [
        "import numpy as np\n",
        "import matplotlib.pyplot as plt\n",
        "\n",
        "# Define the leaky relu function\n",
        "def leaky_relu(x):\n",
        "    if x > 0:\n",
        "        return x\n",
        "    else:\n",
        "        return 0.01 * x\n",
        "\n",
        "# Define the derivative of leaky_relu\n",
        "def leaky_relu_derivative(x):\n",
        "    return 1 if x > 0 else 0.01\n",
        "\n",
        "# Inputs and initialization of weights\n",
        "x1 = 1.0\n",
        "x2 = 2.0\n",
        "w1 = np.random.randn()  # Random initialization of w1\n",
        "w2 = np.random.randn()  # Random initialization of w2\n",
        "\n",
        "# Compute the weighted sum (z)\n",
        "z = w1 * x1 + w2 * x2\n",
        "\n",
        "# Compute the output using the LeakyReLU activation\n",
        "output = leaky_relu(z)\n",
        "\n",
        "# Compute the loss (L2 loss: (output - 5)^2)\n",
        "loss = (output - 5) ** 2\n",
        "\n",
        "# Compute the gradients of the loss with respect to w1 and w2\n",
        "grad_output = 2 * (output - 5)\n",
        "grad_z = grad_output * leaky_relu_derivative(z)\n",
        "grad_w1 = grad_z * x1\n",
        "grad_w2 = grad_z * x2\n",
        "\n",
        "# Update weights using the gradients\n",
        "learning_rate = 0.01\n",
        "w1 -= learning_rate * grad_w1\n",
        "w2 -= learning_rate * grad_w2\n",
        "\n",
        "# Print final loss and updated weights\n",
        "print(f'Loss: {loss}, w1: {w1}, w2: {w2}')\n",
        "\n",
        "# Plotting the leaky relu function\n",
        "xs = np.arange(-10, 10, 0.1)\n",
        "ys = [leaky_relu(x) for x in xs]\n",
        "plt.title('Leaky ReLU Activation')\n",
        "plt.plot(xs, ys)\n",
        "plt.show()"
      ],
      "metadata": {
        "id": "t_PBMtOryN0D",
        "colab": {
          "base_uri": "https://localhost:8080/",
          "height": 470
        },
        "outputId": "5e2b0df5-0ec4-426b-d46b-070ecb1e6cf5"
      },
      "execution_count": null,
      "outputs": [
        {
          "output_type": "stream",
          "name": "stdout",
          "text": [
            "Loss: 25.388354281510065, w1: -0.07523442391015474, w2: -1.8941519089880239\n"
          ]
        },
        {
          "output_type": "display_data",
          "data": {
            "text/plain": [
              "<Figure size 640x480 with 1 Axes>"
            ],
            "image/png": "[encoded data removed]"
          },
          "metadata": {}
        }
      ]
    },
    {
      "cell_type": "markdown",
      "source": [
        "### 1a. Backpropagation by hand (10 points)\n",
        "Optimize the loss using only python like we did in class. Derive the gradients by hand."
      ],
      "metadata": {
        "id": "d2c7vCPc13eC"
      }
    },
    {
      "cell_type": "code",
      "source": [
        "import random\n",
        "\n",
        "# initialization\n",
        "\n",
        "x1 = 5 # data\n",
        "x2 = 6\n",
        "\n",
        "w1 = 7 # model params\n",
        "w2 = 8\n",
        "\n",
        "lr = 0.01\n",
        "\n",
        "# Ground truth (assuming a fixed target value)\n",
        "y_true = 100\n",
        "\n",
        "def leaky_relu(x):\n",
        "    return x if x > 0 else 0.01 * x\n",
        "\n",
        "def leaky_relu_derivative(x):\n",
        "    return 1 if x > 0 else 0.01\n",
        "\n",
        "for i in range(100):\n",
        "    # implement here\n",
        "\n",
        "    # Forward pass\n",
        "    z = x1 * w1 + x2 * w2\n",
        "    y_pred = leaky_relu(z)\n",
        "\n",
        "    # Loss calculation (MSE)\n",
        "    loss = (y_pred - y_true) ** 2\n",
        "\n",
        "    # Compute the gradient of the loss w.r.t. y_pred\n",
        "    dloss_dypred = 2 * (y_pred - y_true)\n",
        "\n",
        "    # Gradient of leaky ReLU\n",
        "    dypred_dz = leaky_relu_derivative(z)\n",
        "\n",
        "    # Gradients w.r.t. weights\n",
        "    dz_dw1 = x1\n",
        "    dz_dw2 = x2\n",
        "\n",
        "    dloss_dw1 = dloss_dypred * dypred_dz * dz_dw1\n",
        "    dloss_dw2 = dloss_dypred * dypred_dz * dz_dw2\n",
        "\n",
        "    # Update weights\n",
        "    w1 = w1 - lr * dloss_dw1\n",
        "    w2 = w2 - lr * dloss_dw2\n",
        "\n",
        "    # Print loss and predictions at every 10th iteration\n",
        "    if i % 10 == 0:\n",
        "        print(f\"Iteration {i}: prediction={y_pred:.4f}, loss={loss:.4f}\")\n",
        "\n",
        "print(leaky_relu(x1 * w1 + x2 * w2))"
      ],
      "metadata": {
        "id": "z1BmVmYc12w_",
        "colab": {
          "base_uri": "https://localhost:8080/"
        },
        "outputId": "6f891687-0f8d-4f1e-fe7d-6c6a6adc1974"
      },
      "execution_count": null,
      "outputs": [
        {
          "output_type": "stream",
          "name": "stdout",
          "text": [
            "Iteration 0: prediction=83.0000, loss=289.0000\n",
            "Iteration 10: prediction=100.0000, loss=0.0000\n",
            "Iteration 20: prediction=100.0000, loss=0.0000\n",
            "Iteration 30: prediction=100.0000, loss=0.0000\n",
            "Iteration 40: prediction=100.0000, loss=0.0000\n",
            "Iteration 50: prediction=100.0000, loss=0.0000\n",
            "Iteration 60: prediction=100.0000, loss=0.0000\n",
            "Iteration 70: prediction=100.0000, loss=0.0000\n",
            "Iteration 80: prediction=100.0000, loss=0.0000\n",
            "Iteration 90: prediction=100.0000, loss=0.0000\n",
            "100.0\n"
          ]
        }
      ]
    },
    {
      "cell_type": "markdown",
      "source": [
        "### 1b. Reimplement 1a using torch. (5 points)\n",
        "\n",
        "Do not use `torch.optim`"
      ],
      "metadata": {
        "id": "C8lLoxJY4AIg"
      }
    },
    {
      "cell_type": "code",
      "source": [
        "x1 = torch.tensor(3., requires_grad=False) # data\n",
        "x2 = torch.tensor(4., requires_grad=False)\n",
        "\n",
        "w1 = torch.tensor(5., requires_grad=True) # model params\n",
        "w2 = torch.tensor(6., requires_grad=True)\n",
        "\n",
        "lr = 0.01\n",
        "\n",
        "for i in range(100):\n",
        "    # implement\n",
        "\n",
        "    # Zero the gradients from the previous iteration\n",
        "    w1.grad = None\n",
        "    w2.grad = None\n",
        "\n",
        "    # Forward pass: compute the prediction using leaky ReLU\n",
        "    z = x1 * w1 + x2 * w2\n",
        "    prediction = F.leaky_relu(z)\n",
        "\n",
        "    # Compute the loss (MSE with a fixed target, say target = 10)\n",
        "    target = torch.tensor(10.)  # For example, you want the prediction to be 10\n",
        "    loss = (prediction - target) ** 2\n",
        "\n",
        "    # Backward pass: compute gradient of the loss with respect to w1 and w2\n",
        "    loss.backward()\n",
        "\n",
        "    # Manually update weights using gradients\n",
        "    with torch.no_grad():\n",
        "        w1 -= learning_rate * w1.grad\n",
        "        w2 -= learning_rate * w2.grad\n",
        "\n",
        "    # Optional: print loss and predictions at every 10th iteration\n",
        "    if i % 10 == 0:\n",
        "        print(f\"Iteration {i}: prediction={prediction.item():.4f}, loss={loss.item():.4f}\")\n",
        "\n",
        "prediction = (F.leaky_relu(x1*w1 + x2*w2)).detach().item()\n",
        "\n",
        "print(f\"prediction: \", prediction)\n",
        "print(f\"Final w1: {w1.item()}, w2: {w2.item()}\")"
      ],
      "metadata": {
        "id": "GL1z_OFR4kyP",
        "colab": {
          "base_uri": "https://localhost:8080/"
        },
        "outputId": "9a323e91-4202-4b59-e5a8-ed588f2c7283"
      },
      "execution_count": null,
      "outputs": [
        {
          "output_type": "stream",
          "name": "stdout",
          "text": [
            "Iteration 0: prediction=39.0000, loss=841.0000\n",
            "Iteration 10: prediction=10.0283, loss=0.0008\n",
            "Iteration 20: prediction=10.0000, loss=0.0000\n",
            "Iteration 30: prediction=10.0000, loss=0.0000\n",
            "Iteration 40: prediction=10.0000, loss=0.0000\n",
            "Iteration 50: prediction=10.0000, loss=0.0000\n",
            "Iteration 60: prediction=10.0000, loss=0.0000\n",
            "Iteration 70: prediction=10.0000, loss=0.0000\n",
            "Iteration 80: prediction=10.0000, loss=0.0000\n",
            "Iteration 90: prediction=10.0000, loss=0.0000\n",
            "prediction:  10.0\n",
            "Final w1: 1.5199999809265137, w2: 1.3600001335144043\n"
          ]
        }
      ]
    },
    {
      "cell_type": "markdown",
      "source": [
        "### 1c. Implement a 2 layer neural network. (5 points)\n",
        "\n",
        "The neural network should be able to take inputs of size [4, 32] (batch size of 4 with 32 features per sample). The first layer should have have an output dimension of 8 and use the leaky relu activation. The second layer should not use an activation function.\n",
        "\n",
        "Train the model so that it outputs 5. Use an L2 loss as we did in 1a and 1b.\n",
        "\n",
        "[Pytorch docs on how to use leaky relu](\"https://pytorch.org/docs/stable/generated/torch.nn.LeakyReLU.html\")"
      ],
      "metadata": {
        "id": "nX5raZxJ6FYu"
      }
    },
    {
      "cell_type": "code",
      "source": [
        "class MLP(nn.Module):\n",
        "    def __init__(self):\n",
        "        # implement\n",
        "        super(MLP, self).__init__()\n",
        "        # First layer: input size is 32, output size is 8\n",
        "        self.fc1 = nn.Linear(32, 8)\n",
        "        # Second layer: input size is 8, output size is 1 (for outputting a single value)\n",
        "        self.fc2 = nn.Linear(8, 1)\n",
        "\n",
        "    def forward(self, x):\n",
        "        # implement\n",
        "\n",
        "        # First layer with leaky ReLU activation\n",
        "        x = F.leaky_relu(self.fc1(x))\n",
        "        # Second layer (no activation function)\n",
        "        x = self.fc2(x)\n",
        "        return x\n",
        "\n",
        "x = torch.randn((4, 32)).float()\n",
        "\n",
        "net = MLP()\n",
        "\n",
        "# Set the learning rate\n",
        "learning_rate = 0.01\n",
        "\n",
        "# Target: the network should output 5 (so target = torch.tensor([5.]) for each batch)\n",
        "target = torch.tensor([5.]).repeat(4, 1)  # Output 5 for all 4 samples in the batch\n",
        "\n",
        "# Loss function: L2 loss (Mean Squared Error)\n",
        "loss_fn = nn.MSELoss()\n",
        "\n",
        "for _ in range(100):\n",
        "    # implement\n",
        "\n",
        "    # Zero gradients\n",
        "    for param in net.parameters():\n",
        "        param.grad = None\n",
        "\n",
        "    # Forward pass: get predictions\n",
        "    prediction = net(x)\n",
        "\n",
        "    # Compute the loss\n",
        "    loss = loss_fn(prediction, target)\n",
        "\n",
        "    # Backward pass: compute gradients\n",
        "    loss.backward()\n",
        "\n",
        "    # Manually update weights using the gradients\n",
        "    with torch.no_grad():\n",
        "        for param in net.parameters():\n",
        "            param -= learning_rate * param.grad\n",
        "\n",
        "    # Print loss every 10 iterations\n",
        "    if _ % 10 == 0:\n",
        "        print(f\"Iteration {_}: Loss = {loss.item():.4f}\")\n",
        "\n",
        "prediction = net(x)\n",
        "print(f\"{prediction=}\")"
      ],
      "metadata": {
        "id": "9ktU5vCI3d98",
        "colab": {
          "base_uri": "https://localhost:8080/"
        },
        "outputId": "2d540edc-4655-4feb-9f93-51c8781899a0"
      },
      "execution_count": null,
      "outputs": [
        {
          "output_type": "stream",
          "name": "stdout",
          "text": [
            "Iteration 0: Loss = 24.3863\n",
            "Iteration 10: Loss = 8.4807\n",
            "Iteration 20: Loss = 4.1726\n",
            "Iteration 30: Loss = 2.9994\n",
            "Iteration 40: Loss = 2.6690\n",
            "Iteration 50: Loss = 0.9613\n",
            "Iteration 60: Loss = 0.0593\n",
            "Iteration 70: Loss = 0.0032\n",
            "Iteration 80: Loss = 0.0002\n",
            "Iteration 90: Loss = 0.0000\n",
            "prediction=tensor([[4.9989],\n",
            "        [5.0001],\n",
            "        [4.9999],\n",
            "        [5.0011]], grad_fn=<AddmmBackward0>)\n"
          ]
        }
      ]
    },
    {
      "cell_type": "markdown",
      "source": [
        "## Problem 2 (30 points)\n",
        "\n",
        "The objective is predict 0.6. This time, we will use an L1 loss, a sigmoid activation function, and 3 inputs instead. Specifically,\n",
        "\n",
        "\n",
        "$prediction = sigmoid(w1 * x1 + w2 * x2 + w3 * x3)$\n",
        "\n",
        "$loss = l1(prediction, 0.6)$\n",
        "\n",
        "where $sigmoid$ and $l1$ is defined as:\n",
        "\n",
        "$sigmoid(x) = \\frac{1}{1+e^{-x}}$\n",
        "\n",
        "and $l1(prediction, target) = absolute\\_value(prediction - target)$\n",
        "\n",
        "$\\text{absolute_value}(x) = \\begin{cases}\n",
        "x, & \\text{if } x > 0 \\\\\n",
        "-x, & \\text{otherwise}\n",
        "\\end{cases}$\n",
        "\n",
        "\n",
        "Note that the absolute value function is a piece wise function, similar to leaky_relu."
      ],
      "metadata": {
        "id": "4ceRhZFhfDqj"
      }
    },
    {
      "cell_type": "code",
      "source": [
        "def sigmoid(x):\n",
        "    return 1 / (1 + np.exp(-x))\n",
        "\n",
        "# Define the L1 loss function\n",
        "def l1_loss(prediction, target):\n",
        "    return np.abs(prediction - target)\n",
        "\n",
        "# Define the derivative of sigmoid (for gradient calculation)\n",
        "def sigmoid_derivative(x):\n",
        "    sig = sigmoid(x)\n",
        "    return sig * (1 - sig)\n",
        "\n",
        "# Inputs and weights initialization\n",
        "x1 = 1.0\n",
        "x2 = 2.0\n",
        "x3 = 3.0\n",
        "w1 = np.random.randn()  # Random initialization of w1\n",
        "w2 = np.random.randn()  # Random initialization of w2\n",
        "w3 = np.random.randn()  # Random initialization of w3\n",
        "\n",
        "# Target value\n",
        "target = 0.6\n",
        "\n",
        "# Learning rate\n",
        "learning_rate = 0.01\n",
        "\n",
        "# Training loop\n",
        "for i in range(100):\n",
        "    # Compute the weighted sum (z)\n",
        "    z = w1 * x1 + w2 * x2 + w3 * x3\n",
        "\n",
        "    # Compute the prediction using the sigmoid activation\n",
        "    prediction = sigmoid(z)\n",
        "\n",
        "    # Compute the L1 loss\n",
        "    loss = l1_loss(prediction, target)\n",
        "\n",
        "    # Compute the gradients\n",
        "    grad_loss = 1 if (prediction - target) > 0 else -1  # Gradient of L1 loss\n",
        "    grad_pred = grad_loss * sigmoid_derivative(z)  # Chain rule: gradient w.r.t. z\n",
        "    grad_w1 = grad_pred * x1\n",
        "    grad_w2 = grad_pred * x2\n",
        "    grad_w3 = grad_pred * x3\n",
        "\n",
        "    # Update the weights\n",
        "    w1 -= learning_rate * grad_w1\n",
        "    w2 -= learning_rate * grad_w2\n",
        "    w3 -= learning_rate * grad_w3\n",
        "\n",
        "    # Print the loss and prediction every 10 iterations\n",
        "    if i % 10 == 0:\n",
        "        print(f\"Iteration {i}: prediction={prediction:.4f}, loss={loss:.4f}\")\n",
        "\n",
        "# Final prediction\n",
        "final_prediction = sigmoid(w1 * x1 + w2 * x2 + w3 * x3)\n",
        "print(f\"Final prediction: {final_prediction:.4f}\")\n",
        "\n",
        "xs = np.arange(-10, 10, 0.01)\n",
        "\n",
        "ys = [sigmoid(x) for x in xs]\n",
        "plt.title('sigmoid')\n",
        "plt.plot(xs, ys)"
      ],
      "metadata": {
        "colab": {
          "base_uri": "https://localhost:8080/",
          "height": 671
        },
        "id": "GIfe0rrFifE0",
        "outputId": "1b6010a0-f89d-4162-f9da-4ec7625e3228"
      },
      "execution_count": null,
      "outputs": [
        {
          "output_type": "stream",
          "name": "stdout",
          "text": [
            "Iteration 0: prediction=0.0244, loss=0.5756\n",
            "Iteration 10: prediction=0.0252, loss=0.5748\n",
            "Iteration 20: prediction=0.0261, loss=0.5739\n",
            "Iteration 30: prediction=0.0271, loss=0.5729\n",
            "Iteration 40: prediction=0.0281, loss=0.5719\n",
            "Iteration 50: prediction=0.0291, loss=0.5709\n",
            "Iteration 60: prediction=0.0303, loss=0.5697\n",
            "Iteration 70: prediction=0.0316, loss=0.5684\n",
            "Iteration 80: prediction=0.0329, loss=0.5671\n",
            "Iteration 90: prediction=0.0344, loss=0.5656\n",
            "Final prediction: 0.0360\n"
          ]
        },
        {
          "output_type": "execute_result",
          "data": {
            "text/plain": [
              "[<matplotlib.lines.Line2D at 0x7fc8911d1900>]"
            ]
          },
          "metadata": {},
          "execution_count": 6
        },
        {
          "output_type": "display_data",
          "data": {
            "text/plain": [
              "<Figure size 640x480 with 1 Axes>"
            ],
            "image/png": "[encoded data removed]"
          },
          "metadata": {}
        }
      ]
    },
    {
      "cell_type": "code",
      "source": [
        "def absolute_value(x):\n",
        "    if x < 0:\n",
        "        return -x\n",
        "    else:\n",
        "        return x\n",
        "\n",
        "xs = np.arange(-10, 10, 0.01)\n",
        "\n",
        "ys = [absolute_value(x) for x in xs]\n",
        "plt.title('absolute value')\n",
        "plt.plot(xs, ys)"
      ],
      "metadata": {
        "colab": {
          "base_uri": "https://localhost:8080/",
          "height": 470
        },
        "id": "xs4nG4glisGu",
        "outputId": "cdec172f-6ba3-4e03-be31-83ac16b42f70"
      },
      "execution_count": null,
      "outputs": [
        {
          "output_type": "execute_result",
          "data": {
            "text/plain": [
              "[<matplotlib.lines.Line2D at 0x7fc868767220>]"
            ]
          },
          "metadata": {},
          "execution_count": 7
        },
        {
          "output_type": "display_data",
          "data": {
            "text/plain": [
              "<Figure size 640x480 with 1 Axes>"
            ],
            "image/png": "[encoded data removed]"
          },
          "metadata": {}
        }
      ]
    },
    {
      "cell_type": "markdown",
      "source": [
        "### 2a. Backpropagation by hand (15 points)\n",
        "Optimize the loss using only python like we did in class. Derive the gradients by hand."
      ],
      "metadata": {
        "id": "QzwGjnGflYnS"
      }
    },
    {
      "cell_type": "code",
      "source": [
        "import math\n",
        "# initialization\n",
        "\n",
        "x1, x2, x3 = 0.5, 0.6, 0.7 # data\n",
        "w1, w2, w3 = 0.7, 0.8, 0.9 # model\n",
        "\n",
        "lr = 0.01\n",
        "\n",
        "# Target value\n",
        "target = 0.6\n",
        "\n",
        "# Sigmoid function\n",
        "def sigmoid(x):\n",
        "    return 1 / (1 + math.exp(-x))\n",
        "\n",
        "# Sigmoid derivative function\n",
        "def sigmoid_derivative(x):\n",
        "    sig = sigmoid(x)\n",
        "    return sig * (1 - sig)\n",
        "\n",
        "for i in range(100):\n",
        "    # implement here\n",
        "\n",
        "    # Forward pass: compute weighted sum (z) and prediction (sigmoid activation)\n",
        "    z = x1 * w1 + x2 * w2 + x3 * w3\n",
        "    prediction = sigmoid(z)\n",
        "\n",
        "    # Compute the loss (MSE)\n",
        "    loss = (prediction - target) ** 2\n",
        "\n",
        "    # Compute the gradient of the loss w.r.t. prediction\n",
        "    dloss_dpred = 2 * (prediction - target)\n",
        "\n",
        "    # Gradient of the prediction w.r.t. z (sigmoid derivative)\n",
        "    dpred_dz = sigmoid_derivative(z)\n",
        "\n",
        "    # Gradients of z w.r.t. weights\n",
        "    dz_dw1 = x1\n",
        "    dz_dw2 = x2\n",
        "    dz_dw3 = x3\n",
        "\n",
        "    # Chain rule: gradient of loss w.r.t. each weight\n",
        "    dloss_dw1 = dloss_dpred * dpred_dz * dz_dw1\n",
        "    dloss_dw2 = dloss_dpred * dpred_dz * dz_dw2\n",
        "    dloss_dw3 = dloss_dpred * dpred_dz * dz_dw3\n",
        "\n",
        "    # Update weights using gradient descent\n",
        "    w1 = w1 - lr * dloss_dw1\n",
        "    w2 = w2 - lr * dloss_dw2\n",
        "    w3 = w3 - lr * dloss_dw3\n",
        "\n",
        "    # Print loss and prediction at every 10th iteration\n",
        "    if i % 10 == 0:\n",
        "        print(f\"Iteration {i}: prediction={prediction:.4f}, loss={loss:.4f}\")\n",
        "\n",
        "\n",
        "print(sigmoid(x1 * w1 + x2 * w2 + x3 * w3))"
      ],
      "metadata": {
        "id": "cZbqLDRElhD9",
        "colab": {
          "base_uri": "https://localhost:8080/"
        },
        "outputId": "d8084506-94de-4913-c0ee-113d0cfcd355"
      },
      "execution_count": null,
      "outputs": [
        {
          "output_type": "stream",
          "name": "stdout",
          "text": [
            "Iteration 0: prediction=0.8115, loss=0.0447\n",
            "Iteration 10: prediction=0.8104, loss=0.0443\n",
            "Iteration 20: prediction=0.8093, loss=0.0438\n",
            "Iteration 30: prediction=0.8082, loss=0.0434\n",
            "Iteration 40: prediction=0.8071, loss=0.0429\n",
            "Iteration 50: prediction=0.8060, loss=0.0425\n",
            "Iteration 60: prediction=0.8049, loss=0.0420\n",
            "Iteration 70: prediction=0.8038, loss=0.0415\n",
            "Iteration 80: prediction=0.8027, loss=0.0411\n",
            "Iteration 90: prediction=0.8016, loss=0.0406\n",
            "0.800456334145458\n"
          ]
        }
      ]
    },
    {
      "cell_type": "markdown",
      "source": [
        "### 2b. Reimplement 2a using torch. (5 points)\n",
        "\n",
        "Do not use `torch.optim`"
      ],
      "metadata": {
        "id": "JbAsHIx6mSJG"
      }
    },
    {
      "cell_type": "code",
      "source": [
        "# implement here (follow the structure of 1b)\n",
        "\n",
        "# Sigmoid function using torch\n",
        "def sigmoid(x):\n",
        "    return 1 / (1 + torch.exp(-x))\n",
        "\n",
        "# Data inputs\n",
        "x1 = torch.tensor(0.5, requires_grad=False)\n",
        "x2 = torch.tensor(0.6, requires_grad=False)\n",
        "x3 = torch.tensor(0.7, requires_grad=False)\n",
        "\n",
        "# Model parameters (weights)\n",
        "w1 = torch.tensor(0.7, requires_grad=True)\n",
        "w2 = torch.tensor(0.8, requires_grad=True)\n",
        "w3 = torch.tensor(0.9, requires_grad=True)\n",
        "\n",
        "# Learning rate\n",
        "learning_rate = 0.01\n",
        "\n",
        "# Target value (goal for the prediction)\n",
        "target = torch.tensor(0.6, requires_grad=False)\n",
        "\n",
        "# Training loop\n",
        "for i in range(100):\n",
        "    # Zero the gradients from the previous iteration\n",
        "    w1.grad = None\n",
        "    w2.grad = None\n",
        "    w3.grad = None\n",
        "\n",
        "    # Forward pass: compute the prediction using the sigmoid function\n",
        "    z = x1 * w1 + x2 * w2 + x3 * w3\n",
        "    prediction = sigmoid(z)\n",
        "\n",
        "    # Compute the loss (L2 loss)\n",
        "    loss = (prediction - target) ** 2\n",
        "\n",
        "    # Backward pass: compute gradients of the loss with respect to w1, w2, and w3\n",
        "    loss.backward()\n",
        "\n",
        "    # Manually update the weights using the gradients\n",
        "    with torch.no_grad():\n",
        "        w1 -= learning_rate * w1.grad\n",
        "        w2 -= learning_rate * w2.grad\n",
        "        w3 -= learning_rate * w3.grad\n",
        "\n",
        "    # Print loss and prediction every 10 iterations\n",
        "    if i % 10 == 0:\n",
        "        print(f\"Iteration {i}: prediction={prediction.item():.4f}, loss={loss.item():.4f}\")\n",
        "\n",
        "# Final prediction after training\n",
        "final_prediction = sigmoid(x1 * w1 + x2 * w2 + x3 * w3).detach().item()\n",
        "\n",
        "print(f\"Final prediction: {final_prediction:.4f}\")\n",
        "print(f\"Final w1: {w1.item()}, w2: {w2.item()}, w3: {w3.item()}\")"
      ],
      "metadata": {
        "id": "k8fxhBf8mbc2",
        "colab": {
          "base_uri": "https://localhost:8080/"
        },
        "outputId": "381a2dac-187d-4fba-9539-1ca28e22c2af"
      },
      "execution_count": null,
      "outputs": [
        {
          "output_type": "stream",
          "name": "stdout",
          "text": [
            "Iteration 0: prediction=0.8115, loss=0.0447\n",
            "Iteration 10: prediction=0.8104, loss=0.0443\n",
            "Iteration 20: prediction=0.8093, loss=0.0438\n",
            "Iteration 30: prediction=0.8082, loss=0.0434\n",
            "Iteration 40: prediction=0.8071, loss=0.0429\n",
            "Iteration 50: prediction=0.8060, loss=0.0425\n",
            "Iteration 60: prediction=0.8049, loss=0.0420\n",
            "Iteration 70: prediction=0.8038, loss=0.0415\n",
            "Iteration 80: prediction=0.8027, loss=0.0411\n",
            "Iteration 90: prediction=0.8016, loss=0.0406\n",
            "Final prediction: 0.8005\n",
            "Final w1: 0.6677950024604797, w2: 0.7613539695739746, w3: 0.8549127578735352\n"
          ]
        }
      ]
    },
    {
      "cell_type": "markdown",
      "source": [
        "### 2c. Implement a 2 layer neural network. (10 points)\n",
        "\n",
        "The neural network should be able to take inputs of size [4, 32] (batch size of 4 with 32 features per sample). The first layer should have have an output dimension of 8 and use the sigmoid activation. The second layer should also use a sigmoid activation function.\n",
        "\n",
        "Train the model so that it outputs 0.6. Use an L2 loss as we did in 1a and 1b.\n",
        "\n",
        "[PyTorch docs for how to use sigmoid](https://pytorch.org/docs/stable/generated/torch.nn.Sigmoid.html)"
      ],
      "metadata": {
        "id": "Vjlgw7Kbhzmd"
      }
    },
    {
      "cell_type": "code",
      "source": [
        "# implement here (follow the structure of 1c)\n",
        "\n",
        "# Define the neural network model\n",
        "class MLP(nn.Module):\n",
        "    def __init__(self):\n",
        "        super(MLP, self).__init__()\n",
        "        # First layer: input size is 32, output size is 8\n",
        "        self.fc1 = nn.Linear(32, 8)\n",
        "        # Second layer: input size is 8, output size is 1\n",
        "        self.fc2 = nn.Linear(8, 1)\n",
        "\n",
        "    def forward(self, x):\n",
        "        # First layer with sigmoid activation\n",
        "        x = torch.sigmoid(self.fc1(x))\n",
        "        # Second layer with sigmoid activation\n",
        "        x = torch.sigmoid(self.fc2(x))\n",
        "        return x\n",
        "\n",
        "# Initialize the network\n",
        "net = MLP()\n",
        "\n",
        "# Create random input tensor of shape [4, 32] (batch of 4, each with 32 features)\n",
        "x = torch.randn((4, 32)).float()\n",
        "\n",
        "# Set the learning rate\n",
        "learning_rate = 0.1\n",
        "\n",
        "# Target: the network should output 0.6 for each sample\n",
        "target = torch.tensor([0.6]).repeat(4, 1)  # Output 0.6 for all 4 samples in the batch\n",
        "\n",
        "# Loss function: L2 loss (Mean Squared Error)\n",
        "loss_fn = nn.MSELoss()\n",
        "\n",
        "# Training loop\n",
        "for epoch in range(100):\n",
        "    # Zero the gradients from the previous iteration\n",
        "    for param in net.parameters():\n",
        "        param.grad = None\n",
        "\n",
        "    # Forward pass: compute the predictions\n",
        "    prediction = net(x)\n",
        "\n",
        "    # Compute the loss\n",
        "    loss = loss_fn(prediction, target)\n",
        "\n",
        "    # Backward pass: compute gradients\n",
        "    loss.backward()\n",
        "\n",
        "    # Manually update the weights using the computed gradients\n",
        "    with torch.no_grad():\n",
        "        for param in net.parameters():\n",
        "            param -= learning_rate * param.grad\n",
        "\n",
        "    # Print the loss every 10 epochs\n",
        "    if epoch % 10 == 0:\n",
        "        print(f\"Iteration {epoch}: Loss = {loss.item():.4f}\")\n",
        "\n",
        "# Final prediction after 100 iterations\n",
        "prediction = net(x)\n",
        "print(f\"Final prediction: {prediction}\")"
      ],
      "metadata": {
        "id": "2xma49c1iPG0",
        "colab": {
          "base_uri": "https://localhost:8080/"
        },
        "outputId": "29552c5a-630c-4770-8351-09d47d9965f7"
      },
      "execution_count": null,
      "outputs": [
        {
          "output_type": "stream",
          "name": "stdout",
          "text": [
            "Iteration 0: Loss = 0.0419\n",
            "Iteration 10: Loss = 0.0200\n",
            "Iteration 20: Loss = 0.0093\n",
            "Iteration 30: Loss = 0.0043\n",
            "Iteration 40: Loss = 0.0021\n",
            "Iteration 50: Loss = 0.0011\n",
            "Iteration 60: Loss = 0.0006\n",
            "Iteration 70: Loss = 0.0004\n",
            "Iteration 80: Loss = 0.0003\n",
            "Iteration 90: Loss = 0.0002\n",
            "Final prediction: tensor([[0.5900],\n",
            "        [0.5837],\n",
            "        [0.5921],\n",
            "        [0.6175]], grad_fn=<SigmoidBackward0>)\n"
          ]
        }
      ]
    },
    {
      "cell_type": "code",
      "source": [],
      "metadata": {
        "id": "mA05AgRrEhWW"
      },
      "execution_count": null,
      "outputs": []
    }
  ]
}